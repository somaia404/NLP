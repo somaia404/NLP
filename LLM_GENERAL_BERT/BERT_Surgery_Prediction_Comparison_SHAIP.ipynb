# --- 1. Imports ---
import pandas as pd
from transformers import AutoTokenizer, AutoModelForSequenceClassification, Trainer, TrainingArguments
import torch
from sklearn.model_selection import train_test_split
from sklearn.metrics import classification_report, confusion_matrix, roc_curve, auc
import numpy as np
import matplotlib.pyplot as plt
import seaborn as sns
import os
import gc

# --- 2. IMPORTANT: User Configuration ---
# YOU MUST UPDATE THESE PATHS to match the locations in your secure environment.

# Path to the folder containing the model files you transferred
local_model_path = "/path/in/your/environment/to/bert-base-uncased-local" 

# Path to your CSV data file
csv_file_path = "/path/in/your/environment/to/Updated_Radiology_Report_Data_with_Proper_Dates.csv"


# --- 3. Setup and Data Loading ---
print("Starting analysis...")
device = torch.device("cuda" if torch.cuda.is_available() else "cpu")
print(f"Using device: {device}")

if torch.cuda.is_available():
    torch.cuda.empty_cache()
gc.collect()

print(f"Loading data from: {csv_file_path}")
data = pd.read_csv(csv_file_path)


# --- 4. Preprocessing ---
texts = data["Interpretation"].tolist()
# Use the 'operated_on' column for labels
label_map = {"No": 0, "Yes": 1}
labels_mapped = data["operated_on"].map(label_map)
valid_indices = labels_mapped.dropna().index
texts = [texts[i] for i in valid_indices]
labels = labels_mapped.loc[valid_indices].tolist()

train_texts, val_texts, train_labels, val_labels = train_test_split(
    texts, labels, test_size=0.2, random_state=42, stratify=labels
)
print("Data preprocessing and splitting complete.")


# --- 5. Load LOCAL Model and Tokenizer ---
print(f"Loading model and tokenizer from local path: {local_model_path}")
tokenizer = AutoTokenizer.from_pretrained(local_model_path)
model = AutoModelForSequenceClassification.from_pretrained(local_model_path)
model.to(device)


# --- 6. Create Datasets ---
train_encodings = tokenizer(train_texts, truncation=True, padding=True, max_length=512)
val_encodings = tokenizer(val_texts, truncation=True, padding=True, max_length=512)

class RadiologyReportDataset(torch.utils.data.Dataset):
    def __init__(self, encodings, labels):
        self.encodings = encodings
        self.labels = labels

    def __getitem__(self, idx):
        item = {key: torch.tensor(val[idx]) for key, val in self.encodings.items()}
        item['labels'] = torch.tensor(self.labels[idx])
        return item

    def __len__(self):
        return len(self.labels)

train_dataset = RadiologyReportDataset(train_encodings, train_labels)
val_dataset = RadiologyReportDataset(val_encodings, val_labels)
print("PyTorch Datasets created.")


# --- 7. Training ---
training_args = TrainingArguments(
    output_dir='./results_secure_env',
    num_train_epochs=4,
    per_device_train_batch_size=16,
    per_device_eval_batch_size=64,
    warmup_steps=500,
    weight_decay=0.01,
    logging_dir='./logs_secure_env',
    logging_steps=10,
    report_to="none",
    learning_rate=2e-5,
)

trainer = Trainer(
    model=model,
    args=training_args,
    train_dataset=train_dataset,
    eval_dataset=val_dataset
)

print("Starting model training...")
trainer.train()
print("Training complete.")


# --- 8. Evaluation and Reporting ---
print("Evaluating model and generating reports...")
predictions = trainer.predict(val_dataset)
probs = torch.nn.functional.softmax(torch.from_numpy(predictions.predictions), dim=-1).numpy()
predicted_labels = np.argmax(probs, axis=1)

# Classification Report
print("\n--- Classification Report ---")
print(classification_report(val_labels, predicted_labels, target_names=["No", "Yes"]))

# Confusion Matrix
print("\n--- Confusion Matrix ---")
cm = confusion_matrix(val_labels, predicted_labels)
plt.figure(figsize=(8, 6))
sns.heatmap(cm, annot=True, fmt='d', cmap='Blues', xticklabels=["No", "Yes"], yticklabels=["No", "Yes"])
plt.xlabel('Predicted')
plt.ylabel('Actual')
plt.title('Confusion Matrix')
plt.show()

# ROC Curve
print("\n--- ROC Curve ---")
fpr, tpr, thresholds = roc_curve(val_labels, probs[:, 1])
roc_auc = auc(fpr, tpr)
plt.figure(figsize=(8, 6))
plt.plot(fpr, tpr, color='darkorange', lw=2, label=f'ROC curve (AUC = {roc_auc:.2f})')
plt.plot([0, 1], [0, 1], color='navy', lw=2, linestyle='--')
plt.xlabel('False Positive Rate')
plt.ylabel('True Positive Rate')
plt.title('Receiver Operating Characteristic (ROC) Curve')
plt.legend(loc="lower right")
plt.show()

print("\nAnalysis complete.")
